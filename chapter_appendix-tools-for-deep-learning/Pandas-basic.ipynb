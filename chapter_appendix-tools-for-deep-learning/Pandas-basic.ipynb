{
  "cells": [
    {
      "cell_type": "code",
      "source": [
        "!pip install pandas==2.0.2"
      ],
      "metadata": {
        "id": "PofbklS8I-WF",
        "outputId": "b1f5b544-4a6d-4633-caf2-1add2aa2f2cb",
        "colab": {
          "base_uri": "https://localhost:8080/"
        }
      },
      "id": "PofbklS8I-WF",
      "execution_count": 1,
      "outputs": [
        {
          "output_type": "stream",
          "name": "stdout",
          "text": [
            "Collecting pandas==2.0.2\n",
            "  Downloading pandas-2.0.2-cp311-cp311-manylinux_2_17_x86_64.manylinux2014_x86_64.whl.metadata (18 kB)\n",
            "Requirement already satisfied: python-dateutil>=2.8.2 in /usr/local/lib/python3.11/dist-packages (from pandas==2.0.2) (2.8.2)\n",
            "Requirement already satisfied: pytz>=2020.1 in /usr/local/lib/python3.11/dist-packages (from pandas==2.0.2) (2025.1)\n",
            "Requirement already satisfied: tzdata>=2022.1 in /usr/local/lib/python3.11/dist-packages (from pandas==2.0.2) (2025.1)\n",
            "Requirement already satisfied: numpy>=1.21.0 in /usr/local/lib/python3.11/dist-packages (from pandas==2.0.2) (1.26.4)\n",
            "Requirement already satisfied: six>=1.5 in /usr/local/lib/python3.11/dist-packages (from python-dateutil>=2.8.2->pandas==2.0.2) (1.17.0)\n",
            "Downloading pandas-2.0.2-cp311-cp311-manylinux_2_17_x86_64.manylinux2014_x86_64.whl (12.2 MB)\n",
            "\u001b[2K   \u001b[90m━━━━━━━━━━━━━━━━━━━━━━━━━━━━━━━━━━━━━━━━\u001b[0m \u001b[32m12.2/12.2 MB\u001b[0m \u001b[31m56.7 MB/s\u001b[0m eta \u001b[36m0:00:00\u001b[0m\n",
            "\u001b[?25hInstalling collected packages: pandas\n",
            "  Attempting uninstall: pandas\n",
            "    Found existing installation: pandas 2.2.2\n",
            "    Uninstalling pandas-2.2.2:\n",
            "      Successfully uninstalled pandas-2.2.2\n",
            "\u001b[31mERROR: pip's dependency resolver does not currently take into account all the packages that are installed. This behaviour is the source of the following dependency conflicts.\n",
            "google-colab 1.0.0 requires pandas==2.2.2, but you have pandas 2.0.2 which is incompatible.\n",
            "plotnine 0.14.5 requires pandas>=2.2.0, but you have pandas 2.0.2 which is incompatible.\n",
            "mizani 0.13.1 requires pandas>=2.2.0, but you have pandas 2.0.2 which is incompatible.\n",
            "xarray 2025.1.2 requires pandas>=2.1, but you have pandas 2.0.2 which is incompatible.\u001b[0m\u001b[31m\n",
            "\u001b[0mSuccessfully installed pandas-2.0.2\n"
          ]
        }
      ]
    },
    {
      "cell_type": "code",
      "source": [
        "import pandas"
      ],
      "metadata": {
        "id": "73D6SFqGTRBu"
      },
      "id": "73D6SFqGTRBu",
      "execution_count": 4,
      "outputs": []
    },
    {
      "cell_type": "code",
      "source": [
        "import pandas as pd"
      ],
      "metadata": {
        "id": "uMxZ-cDKUtlF"
      },
      "id": "uMxZ-cDKUtlF",
      "execution_count": 5,
      "outputs": []
    },
    {
      "cell_type": "code",
      "source": [
        "!wget https://github.com/jonfernandes/pandas_essential/raw/main/olympics_1896_2004.csv"
      ],
      "metadata": {
        "id": "_SRY1--tUt8z",
        "outputId": "395e1223-0d93-4243-99f0-41f83ee8b5c9",
        "colab": {
          "base_uri": "https://localhost:8080/"
        }
      },
      "id": "_SRY1--tUt8z",
      "execution_count": 7,
      "outputs": [
        {
          "output_type": "stream",
          "name": "stdout",
          "text": [
            "--2025-02-17 00:34:00--  https://github.com/jonfernandes/pandas_essential/raw/main/olympics_1896_2004.csv\n",
            "Resolving github.com (github.com)... 140.82.116.3\n",
            "Connecting to github.com (github.com)|140.82.116.3|:443... connected.\n",
            "HTTP request sent, awaiting response... 302 Found\n",
            "Location: https://raw.githubusercontent.com/jonfernandes/pandas_essential/main/olympics_1896_2004.csv [following]\n",
            "--2025-02-17 00:34:00--  https://raw.githubusercontent.com/jonfernandes/pandas_essential/main/olympics_1896_2004.csv\n",
            "Resolving raw.githubusercontent.com (raw.githubusercontent.com)... 185.199.108.133, 185.199.109.133, 185.199.110.133, ...\n",
            "Connecting to raw.githubusercontent.com (raw.githubusercontent.com)|185.199.108.133|:443... connected.\n",
            "HTTP request sent, awaiting response... 200 OK\n",
            "Length: 2398388 (2.3M) [text/plain]\n",
            "Saving to: ‘olympics_1896_2004.csv’\n",
            "\n",
            "olympics_1896_2004. 100%[===================>]   2.29M  --.-KB/s    in 0.06s   \n",
            "\n",
            "2025-02-17 00:34:01 (38.7 MB/s) - ‘olympics_1896_2004.csv’ saved [2398388/2398388]\n",
            "\n"
          ]
        }
      ]
    },
    {
      "cell_type": "code",
      "source": [
        "oo = pd.read_csv('olympics_1896_2004.csv')"
      ],
      "metadata": {
        "id": "zAxO6YrvUzVZ"
      },
      "id": "zAxO6YrvUzVZ",
      "execution_count": 8,
      "outputs": []
    },
    {
      "cell_type": "code",
      "source": [
        "filename = \"olympics_1896_2004.csv\""
      ],
      "metadata": {
        "id": "MaZfvZ5vU-N9"
      },
      "id": "MaZfvZ5vU-N9",
      "execution_count": 9,
      "outputs": []
    },
    {
      "cell_type": "code",
      "source": [],
      "metadata": {
        "id": "BgQWlbxtVCGz"
      },
      "id": "BgQWlbxtVCGz",
      "execution_count": null,
      "outputs": []
    }
  ],
  "metadata": {
    "kernelspec": {
      "display_name": "Python 3",
      "name": "python3"
    },
    "language_info": {
      "name": "python"
    },
    "required_libs": [],
    "colab": {
      "provenance": []
    }
  },
  "nbformat": 4,
  "nbformat_minor": 5
}